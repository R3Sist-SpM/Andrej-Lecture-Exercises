{
  "cells": [
    {
      "cell_type": "markdown",
      "metadata": {},
      "source": [
        "Trigram Language Model"
      ]
    },
    {
      "cell_type": "code",
      "execution_count": 1,
      "metadata": {
        "id": "Aec9wVIGGOAm"
      },
      "outputs": [],
      "source": [
        "words = open('names.txt', 'r').read().splitlines()"
      ]
    },
    {
      "cell_type": "code",
      "execution_count": 2,
      "metadata": {
        "id": "kBUfwYnRGOAp"
      },
      "outputs": [],
      "source": [
        "import torch\n",
        "import torch.nn.functional as F"
      ]
    },
    {
      "cell_type": "code",
      "execution_count": 3,
      "metadata": {
        "id": "1v46X03cGOAt"
      },
      "outputs": [],
      "source": [
        "chars = sorted(list(set(''.join(words))))\n",
        "stoi = {s:i+1 for i,s in enumerate(chars)}\n",
        "stoi['.'] = 0\n",
        "itos = {i:s for s,i in stoi.items()}"
      ]
    },
    {
      "cell_type": "code",
      "execution_count": null,
      "metadata": {
        "id": "BEG9jYaeGOAx"
      },
      "outputs": [],
      "source": [
        "# --------- !!! OPTIMIZATION !!! yay --------------\n",
        "\"\"\"\n",
        "DATA recorded --\n",
        "\n",
        "will keep iterations to 100, so it doesn't overfit to the data, and andrej kept it to 100 :)\n",
        "\n",
        "1. 2.098693370819092, -35, 100 iterations \n",
        "\n",
        "2. 2.0668435096740723 = -40 rate, 100 iterations\n",
        "\n",
        "3. NOISE lowest - 2.0696253776550293 , final = 2.075587034225464 = -45 rate, 100 iterations\n",
        "   - early stopping could work!?\n",
        "\n",
        "\"\"\""
      ]
    },
    {
      "cell_type": "code",
      "execution_count": null,
      "metadata": {
        "id": "P-Wk4VdFGOAy"
      },
      "outputs": [],
      "source": [
        "# --------- !!! NETWORK :DD !!! --------------"
      ]
    },
    {
      "cell_type": "code",
      "execution_count": 4,
      "metadata": {
        "colab": {
          "base_uri": "https://localhost:8080/"
        },
        "id": "uAkSmRJsGOAy",
        "outputId": "003aa99d-d20e-4440-fd46-8101a858bc04"
      },
      "outputs": [
        {
          "name": "stdout",
          "output_type": "stream",
          "text": [
            "number of examples:  228146\n"
          ]
        }
      ],
      "source": [
        "\n",
        "# create the dataset\n",
        "\n",
        "xs, ys = [], []\n",
        "for w in words:\n",
        "\n",
        "  # here we add 2 '.' to construct the trigram dataset, could there be a better way? \n",
        "  chs = ['.'] + ['.'] + list(w) + ['.'] \n",
        "\n",
        "  # we zip 3 arrays (trigram)\n",
        "  for ch1, ch2, ch3 in zip(chs, chs[1:], chs[2:]):\n",
        "\n",
        "    ix1 = stoi[ch1]\n",
        "    ix2 = stoi[ch2]\n",
        "    ix3 = stoi[ch3]\n",
        "    xs.append((ix1, ix2))\n",
        "    ys.append(ix3)\n",
        "\n",
        "num = len(xs)\n",
        "print('number of examples: ', num)    \n",
        "xs = torch.tensor(xs)\n",
        "ys = torch.tensor(ys)\n",
        "# initialize the 'network'\n",
        "g = torch.Generator().manual_seed(2147483647)\n",
        "\n",
        "# 54 inputs to 27 neurons , 54 because we give one hot encodings for 2 27 inputs. \n",
        "W = torch.randn((54, 27), generator=g, requires_grad=True)\n"
      ]
    },
    {
      "cell_type": "code",
      "execution_count": 5,
      "metadata": {
        "colab": {
          "base_uri": "https://localhost:8080/"
        },
        "id": "Zdv34qp9GOAy",
        "outputId": "fc47ae1d-2ded-47ef-ff4b-b7ce26365710"
      },
      "outputs": [
        {
          "name": "stdout",
          "output_type": "stream",
          "text": [
            "4.242241382598877\n",
            "3.5613768100738525\n",
            "3.2819509506225586\n",
            "3.051840305328369\n",
            "2.95176362991333\n",
            "2.866408109664917\n",
            "2.82157039642334\n",
            "2.7637434005737305\n",
            "2.734311819076538\n",
            "2.695187568664551\n",
            "2.674452781677246\n",
            "2.6452255249023438\n",
            "2.6305150985717773\n",
            "2.6073215007781982\n",
            "2.5970523357391357\n",
            "2.5777997970581055\n",
            "2.570871114730835\n",
            "2.5543055534362793\n",
            "2.549886465072632\n",
            "2.5352187156677246\n",
            "2.532679319381714\n",
            "2.519402503967285\n",
            "2.518282175064087\n",
            "2.506061553955078\n",
            "2.5060365200042725\n",
            "2.4946401119232178\n",
            "2.4954848289489746\n",
            "2.4847447872161865\n",
            "2.4862983226776123\n",
            "2.4760870933532715\n",
            "2.4782304763793945\n",
            "2.4684486389160156\n",
            "2.471090793609619\n",
            "2.461660861968994\n",
            "2.4647293090820312\n",
            "2.4555914402008057\n",
            "2.4590277671813965\n",
            "2.450133800506592\n",
            "2.4538896083831787\n",
            "2.4452016353607178\n",
            "2.449237108230591\n",
            "2.4407246112823486\n",
            "2.4450063705444336\n",
            "2.4366438388824463\n",
            "2.4411444664001465\n",
            "2.4329111576080322\n",
            "2.437605619430542\n",
            "2.429486036300659\n",
            "2.434354066848755\n",
            "2.426332950592041\n",
            "2.431356430053711\n",
            "2.4234230518341064\n",
            "2.4285857677459717\n",
            "2.4207301139831543\n",
            "2.4260189533233643\n",
            "2.4182322025299072\n",
            "2.423635244369507\n",
            "2.415909767150879\n",
            "2.4214158058166504\n",
            "2.4137461185455322\n",
            "2.4193458557128906\n",
            "2.4117259979248047\n",
            "2.417409896850586\n",
            "2.409836769104004\n",
            "2.415597677230835\n",
            "2.4080660343170166\n",
            "2.4138965606689453\n",
            "2.4064035415649414\n",
            "2.4122979640960693\n",
            "2.4048402309417725\n",
            "2.4107930660247803\n",
            "2.403367519378662\n",
            "2.4093739986419678\n",
            "2.4019784927368164\n",
            "2.4080328941345215\n",
            "2.400665283203125\n",
            "2.406764268875122\n",
            "2.399423122406006\n",
            "2.405561923980713\n",
            "2.3982460498809814\n",
            "2.4044225215911865\n",
            "2.3971290588378906\n",
            "2.4033398628234863\n",
            "2.3960683345794678\n",
            "2.402310371398926\n",
            "2.3950588703155518\n",
            "2.40132999420166\n",
            "2.3940980434417725\n",
            "2.400395154953003\n",
            "2.393181562423706\n",
            "2.399503469467163\n",
            "2.3923070430755615\n",
            "2.398651361465454\n",
            "2.3914716243743896\n",
            "2.397836685180664\n",
            "2.390672445297241\n",
            "2.397057056427002\n",
            "2.3899073600769043\n",
            "2.3963100910186768\n",
            "2.3891749382019043\n"
          ]
        }
      ],
      "source": [
        "# gradient descent\n",
        "for k in range(100):\n",
        "  \n",
        "  # forward pass\n",
        "\n",
        "  xenc = F.one_hot(xs, num_classes=27).float() # input to the network: one-hot encoding\n",
        "\n",
        "  # converting inputs to a 54 array\n",
        "  xenc = xenc.view(-1, 54)\n",
        "  \n",
        "  logits = xenc @ W # predict log-counts\n",
        "  counts = logits.exp() # counts, equivalent to N\n",
        "  probs = counts / counts.sum(1, keepdims=True) # probabilities for next character\n",
        "  loss = -probs[torch.arange(num), ys].log().mean() + 0.01*(W**2).mean()\n",
        "  print(loss.item())\n",
        "  \n",
        "  # backward pass\n",
        "  W.grad = None # set to zero the gradient\n",
        "  loss.backward()\n",
        "  \n",
        "  # update (found 35 to be better)\n",
        "  W.data += -40 * W.grad"
      ]
    },
    {
      "cell_type": "code",
      "execution_count": 7,
      "metadata": {
        "colab": {
          "base_uri": "https://localhost:8080/"
        },
        "id": "tJFu5LZgGOAz",
        "outputId": "ee57a476-8a17-46f2-e16b-5378a6e2d066"
      },
      "outputs": [
        {
          "name": "stdout",
          "output_type": "stream",
          "text": [
            "mor.\n",
            "brwanikbxqwwzjavann.\n",
            "loecodab.\n",
            "mimpiry.\n",
            "rle.\n"
          ]
        }
      ],
      "source": [
        "# finally, sample from the 'neural net' model\n",
        "g = torch.Generator().manual_seed(2147483647)\n",
        "\n",
        "for i in range(5):\n",
        "  \n",
        "  out = []\n",
        "  #initial indexed, both 0 and 0\n",
        "  ix2 = [0, 0]\n",
        "\n",
        "  while True:\n",
        "    xenc = torch.zeros(1, 54)\n",
        "    xenc[0][ix2[0]] = 1\n",
        "\n",
        "    #we add 27 here, because it's a 54 input array, and the second index has to go to the next 1-27 array\n",
        "    xenc[0][ix2[1] + 27] = 1\n",
        "\n",
        "    logits = xenc @ W # predict log-counts\n",
        "    counts = logits.exp() # counts, equivalent to N\n",
        "    p = counts / counts.sum(1, keepdims=True) # probabilities for next character\n",
        "    # ----------\n",
        "    \n",
        "    ix = torch.multinomial(p, num_samples=1, replacement=True, generator=g).item()\n",
        "    ix = ix\n",
        "\n",
        "    #we swap the inputs, to make them the inputs for the next character\n",
        "    ix2[0] = ix2[1]\n",
        "    ix2[1] = ix\n",
        "\n",
        "    out.append(itos[ix])\n",
        "    if ix == 0:\n",
        "      break\n",
        "  print(''.join(out))"
      ]
    },
    {
      "cell_type": "code",
      "execution_count": null,
      "metadata": {
        "id": "Oo45MlDJGOAz"
      },
      "outputs": [],
      "source": []
    },
    {
      "cell_type": "markdown",
      "metadata": {},
      "source": [
        "Splitting Data into dev and test sets"
      ]
    },
    {
      "cell_type": "code",
      "execution_count": null,
      "metadata": {},
      "outputs": [],
      "source": [
        "\n",
        "# create the dataset\n",
        "\n",
        "xs, ys = [], []\n",
        "dev_xs, dev_ys = [], []\n",
        "train_xs, train_ys = [], []\n",
        "\n",
        "for w in words:\n",
        "\n",
        "  # here we add 2 '.' to construct the trigram dataset, could there be a better way? \n",
        "  chs = ['.'] + ['.'] + list(w) + ['.']\n",
        "\n",
        "  # we zip 3 arrays (trigram)\n",
        "  for ch1, ch2, ch3 in zip(chs, chs[1:], chs[2:]):\n",
        "\n",
        "    ix1 = stoi[ch1]\n",
        "    ix2 = stoi[ch2]\n",
        "    ix3 = stoi[ch3]\n",
        "\n",
        "    probability = torch.rand(1)\n",
        "  \n",
        "    if (probability[0].item() <= 0.1):\n",
        "      another_prob = torch.rand(1)\n",
        "      if another_prob[0].item() <= 0.55:\n",
        "         dev_xs.append((ix1, ix2))\n",
        "         dev_ys.append(ix3)\n",
        "      else:\n",
        "         train_xs.append((ix1, ix2))\n",
        "         train_ys.append(ix3)\n",
        "    else:\n",
        "      xs.append((ix1, ix2))\n",
        "      ys.append(ix3)\n",
        "\n",
        "num = len(xs)\n",
        "total_samples = num + len(dev_xs) + len(train_xs)\n",
        "\n",
        "print('number of examples: ', num, 'xs', 'percentage = ', (num/total_samples)*100)\n",
        "print('number of examples: ', len(dev_xs), 'xs', 'percentage = ', (len(dev_xs)/total_samples)*100)\n",
        "print('number of examples: ', len(train_xs), 'xs', 'percentage = ', (len(train_xs)/total_samples)*100)\n",
        "\n",
        "print( (num/total_samples)*100 +(len(dev_xs)/total_samples)*100 +  (len(train_xs)/total_samples)*100, 'checking total probability')\n",
        "xs = torch.tensor(xs)\n",
        "ys = torch.tensor(ys)\n",
        "\n",
        "dev_xs = torch.tensor(dev_xs)\n",
        "dev_ys = torch.tensor(dev_ys)\n",
        "\n",
        "train_xs = torch.tensor(train_xs)\n",
        "train_ys = torch.tensor(train_ys)\n",
        "\n",
        "# initialize the 'network'\n",
        "g = torch.Generator().manual_seed(2147483647)\n",
        "\n",
        "# 54 inputs to 27 neurons , 54 because we give one hot encodings for 2 27 inputs. \n",
        "W = torch.randn((54, 27), generator=g, requires_grad=True)"
      ]
    },
    {
      "cell_type": "markdown",
      "metadata": {},
      "source": [
        "EVALUATING the Dev and Test Set"
      ]
    },
    {
      "cell_type": "code",
      "execution_count": null,
      "metadata": {},
      "outputs": [],
      "source": [
        "# EVALUATION\n",
        "\n",
        "num_dev = len(dev_xs)\n",
        "\n",
        "num_train = len(train_xs)\n",
        "\n",
        "for k in range(1):\n",
        "  \n",
        "  # forward pass\n",
        "\n",
        "  xenc = F.one_hot(dev_xs, num_classes=27).float() # input to the network: one-hot encoding\n",
        "  # converting inputs to a 54 array\n",
        "  xenc = xenc.view(-1, 54)\n",
        "  \n",
        "  logits = xenc @ W # predict log-counts\n",
        "  print(logits.shape, 'LOGITS SHAPe')\n",
        "  counts = logits.exp() # counts, equivalent to N\n",
        "  probs = counts / counts.sum(1, keepdims=True) # probabilities for next character\n",
        "  print(probs.shape)\n",
        "  loss = -probs[torch.arange(num_dev), dev_ys].log().mean()\n",
        "  print(loss.item(), 'dev set')\n",
        "\n",
        "\n",
        "for k in range(1):\n",
        "  \n",
        "  # forward pass\n",
        "\n",
        "  xenc = F.one_hot(train_xs, num_classes=27).float() # input to the network: one-hot encoding\n",
        "  # converting inputs to a 54 array\n",
        "  xenc = xenc.view(-1, 54)\n",
        "  \n",
        "  logits = xenc @ W # predict log-counts\n",
        "  print(logits.shape, 'LOGITS SHAPe')\n",
        "  counts = logits.exp() # counts, equivalent to N\n",
        "  probs = counts / counts.sum(1, keepdims=True) # probabilities for next character\n",
        "  print(probs.shape, num_train)\n",
        "  loss = -probs[torch.arange(num_train), train_ys].log().mean()\n",
        "  print(loss.item(), 'train set')"
      ]
    },
    {
      "cell_type": "markdown",
      "metadata": {},
      "source": [
        "Using cross entropy loss - (same result (and thing too, in this case))"
      ]
    },
    {
      "cell_type": "code",
      "execution_count": null,
      "metadata": {},
      "outputs": [],
      "source": [
        "# gradient descent with cross entropy loss\n",
        "for k in range(100):\n",
        "  \n",
        "  # forward pass\n",
        "\n",
        "  xenc = F.one_hot(xs, num_classes=27).float() # input to the network: one-hot encoding\n",
        "\n",
        "  # converting inputs to a 54 array\n",
        "  xenc = xenc.view(-1, 54)\n",
        "  \n",
        "  logits = xenc @ W # predict log-counts\n",
        "  \n",
        "\n",
        "  loss = F.cross_entropy(logits, ys) + 0.01*(W**2).mean()\n",
        "  print(loss.item())\n",
        "  \n",
        "  # backward pass\n",
        "  W.grad = None # set to zero the gradient\n",
        "  loss.backward()\n",
        "  \n",
        "  # update (found 35 to be better)\n",
        "  W.data += -50 * W.grad"
      ]
    }
  ],
  "metadata": {
    "colab": {
      "collapsed_sections": [],
      "provenance": []
    },
    "kernelspec": {
      "display_name": "Python 3.8.10 64-bit",
      "language": "python",
      "name": "python3"
    },
    "language_info": {
      "codemirror_mode": {
        "name": "ipython",
        "version": 3
      },
      "file_extension": ".py",
      "mimetype": "text/x-python",
      "name": "python",
      "nbconvert_exporter": "python",
      "pygments_lexer": "ipython3",
      "version": "3.8.10"
    },
    "vscode": {
      "interpreter": {
        "hash": "916dbcbb3f70747c44a77c7bcd40155683ae19c65e1c03b4aa3499c5328201f1"
      }
    }
  },
  "nbformat": 4,
  "nbformat_minor": 0
}
