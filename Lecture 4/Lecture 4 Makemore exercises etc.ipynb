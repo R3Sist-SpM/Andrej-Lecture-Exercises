{
  "nbformat": 4,
  "nbformat_minor": 0,
  "metadata": {
    "colab": {
      "provenance": [],
      "collapsed_sections": [
        "GJg5NrVAeL_Z",
        "48MaFz_na59i",
        "M74AtDJqZepr",
        "WshwrtDkIEFt",
        "scPBaJ7cF8_U",
        "y3bNAAL-G8-5",
        "bg33BqAAG3_t"
      ],
      "include_colab_link": true
    },
    "kernelspec": {
      "name": "python3",
      "display_name": "Python 3"
    },
    "language_info": {
      "name": "python"
    },
    "widgets": {
      "application/vnd.jupyter.widget-state+json": {
        "a1faaebf74a74eed8b151f81f321b105": {
          "model_module": "@jupyter-widgets/controls",
          "model_name": "VBoxModel",
          "model_module_version": "1.5.0",
          "state": {
            "_dom_classes": [
              "widget-interact"
            ],
            "_model_module": "@jupyter-widgets/controls",
            "_model_module_version": "1.5.0",
            "_model_name": "VBoxModel",
            "_view_count": null,
            "_view_module": "@jupyter-widgets/controls",
            "_view_module_version": "1.5.0",
            "_view_name": "VBoxView",
            "box_style": "",
            "children": [
              "IPY_MODEL_2a01a8828d0a4053b98459c0ad2f36aa",
              "IPY_MODEL_316f343419f849898395324bbd6bf5d2"
            ],
            "layout": "IPY_MODEL_c9b75c83250940c4a9d3882bb2f773b9"
          }
        },
        "2a01a8828d0a4053b98459c0ad2f36aa": {
          "model_module": "@jupyter-widgets/controls",
          "model_name": "FloatSliderModel",
          "model_module_version": "1.5.0",
          "state": {
            "_dom_classes": [],
            "_model_module": "@jupyter-widgets/controls",
            "_model_module_version": "1.5.0",
            "_model_name": "FloatSliderModel",
            "_view_count": null,
            "_view_module": "@jupyter-widgets/controls",
            "_view_module_version": "1.5.0",
            "_view_name": "FloatSliderView",
            "continuous_update": true,
            "description": "x0",
            "description_tooltip": null,
            "disabled": false,
            "layout": "IPY_MODEL_98ec72a4932d4b209e242debbe7e8548",
            "max": 30,
            "min": -30,
            "orientation": "horizontal",
            "readout": true,
            "readout_format": ".2f",
            "step": 0.5,
            "style": "IPY_MODEL_e9abd3bb560040079c8d4c933bcba6bd",
            "value": -11.5
          }
        },
        "316f343419f849898395324bbd6bf5d2": {
          "model_module": "@jupyter-widgets/output",
          "model_name": "OutputModel",
          "model_module_version": "1.0.0",
          "state": {
            "_dom_classes": [],
            "_model_module": "@jupyter-widgets/output",
            "_model_module_version": "1.0.0",
            "_model_name": "OutputModel",
            "_view_count": null,
            "_view_module": "@jupyter-widgets/output",
            "_view_module_version": "1.0.0",
            "_view_name": "OutputView",
            "layout": "IPY_MODEL_cd90c15af77a4cada9162cb6977755a3",
            "msg_id": "",
            "outputs": [
              {
                "output_type": "stream",
                "name": "stdout",
                "text": [
                  "2.7873659133911133\n"
                ]
              },
              {
                "output_type": "display_data",
                "data": {
                  "text/plain": "<Figure size 720x360 with 1 Axes>",
                  "image/png": "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\n"
                },
                "metadata": {
                  "needs_background": "light"
                }
              }
            ]
          }
        },
        "c9b75c83250940c4a9d3882bb2f773b9": {
          "model_module": "@jupyter-widgets/base",
          "model_name": "LayoutModel",
          "model_module_version": "1.2.0",
          "state": {
            "_model_module": "@jupyter-widgets/base",
            "_model_module_version": "1.2.0",
            "_model_name": "LayoutModel",
            "_view_count": null,
            "_view_module": "@jupyter-widgets/base",
            "_view_module_version": "1.2.0",
            "_view_name": "LayoutView",
            "align_content": null,
            "align_items": null,
            "align_self": null,
            "border": null,
            "bottom": null,
            "display": null,
            "flex": null,
            "flex_flow": null,
            "grid_area": null,
            "grid_auto_columns": null,
            "grid_auto_flow": null,
            "grid_auto_rows": null,
            "grid_column": null,
            "grid_gap": null,
            "grid_row": null,
            "grid_template_areas": null,
            "grid_template_columns": null,
            "grid_template_rows": null,
            "height": null,
            "justify_content": null,
            "justify_items": null,
            "left": null,
            "margin": null,
            "max_height": null,
            "max_width": null,
            "min_height": null,
            "min_width": null,
            "object_fit": null,
            "object_position": null,
            "order": null,
            "overflow": null,
            "overflow_x": null,
            "overflow_y": null,
            "padding": null,
            "right": null,
            "top": null,
            "visibility": null,
            "width": null
          }
        },
        "98ec72a4932d4b209e242debbe7e8548": {
          "model_module": "@jupyter-widgets/base",
          "model_name": "LayoutModel",
          "model_module_version": "1.2.0",
          "state": {
            "_model_module": "@jupyter-widgets/base",
            "_model_module_version": "1.2.0",
            "_model_name": "LayoutModel",
            "_view_count": null,
            "_view_module": "@jupyter-widgets/base",
            "_view_module_version": "1.2.0",
            "_view_name": "LayoutView",
            "align_content": null,
            "align_items": null,
            "align_self": null,
            "border": null,
            "bottom": null,
            "display": null,
            "flex": null,
            "flex_flow": null,
            "grid_area": null,
            "grid_auto_columns": null,
            "grid_auto_flow": null,
            "grid_auto_rows": null,
            "grid_column": null,
            "grid_gap": null,
            "grid_row": null,
            "grid_template_areas": null,
            "grid_template_columns": null,
            "grid_template_rows": null,
            "height": null,
            "justify_content": null,
            "justify_items": null,
            "left": null,
            "margin": null,
            "max_height": null,
            "max_width": null,
            "min_height": null,
            "min_width": null,
            "object_fit": null,
            "object_position": null,
            "order": null,
            "overflow": null,
            "overflow_x": null,
            "overflow_y": null,
            "padding": null,
            "right": null,
            "top": null,
            "visibility": null,
            "width": null
          }
        },
        "e9abd3bb560040079c8d4c933bcba6bd": {
          "model_module": "@jupyter-widgets/controls",
          "model_name": "SliderStyleModel",
          "model_module_version": "1.5.0",
          "state": {
            "_model_module": "@jupyter-widgets/controls",
            "_model_module_version": "1.5.0",
            "_model_name": "SliderStyleModel",
            "_view_count": null,
            "_view_module": "@jupyter-widgets/base",
            "_view_module_version": "1.2.0",
            "_view_name": "StyleView",
            "description_width": "",
            "handle_color": null
          }
        },
        "cd90c15af77a4cada9162cb6977755a3": {
          "model_module": "@jupyter-widgets/base",
          "model_name": "LayoutModel",
          "model_module_version": "1.2.0",
          "state": {
            "_model_module": "@jupyter-widgets/base",
            "_model_module_version": "1.2.0",
            "_model_name": "LayoutModel",
            "_view_count": null,
            "_view_module": "@jupyter-widgets/base",
            "_view_module_version": "1.2.0",
            "_view_name": "LayoutView",
            "align_content": null,
            "align_items": null,
            "align_self": null,
            "border": null,
            "bottom": null,
            "display": null,
            "flex": null,
            "flex_flow": null,
            "grid_area": null,
            "grid_auto_columns": null,
            "grid_auto_flow": null,
            "grid_auto_rows": null,
            "grid_column": null,
            "grid_gap": null,
            "grid_row": null,
            "grid_template_areas": null,
            "grid_template_columns": null,
            "grid_template_rows": null,
            "height": null,
            "justify_content": null,
            "justify_items": null,
            "left": null,
            "margin": null,
            "max_height": null,
            "max_width": null,
            "min_height": null,
            "min_width": null,
            "object_fit": null,
            "object_position": null,
            "order": null,
            "overflow": null,
            "overflow_x": null,
            "overflow_y": null,
            "padding": null,
            "right": null,
            "top": null,
            "visibility": null,
            "width": null
          }
        }
      }
    },
    "accelerator": "GPU",
    "gpuClass": "standard"
  },
  "cells": [
    {
      "cell_type": "markdown",
      "metadata": {
        "id": "view-in-github",
        "colab_type": "text"
      },
      "source": [
        "<a href=\"https://colab.research.google.com/github/R3Sist-SpM/Andrej-Lecture-Exercises/blob/main/Lecture%204%20Makemore%20exercises%20etc.ipynb\" target=\"_parent\"><img src=\"https://colab.research.google.com/assets/colab-badge.svg\" alt=\"Open In Colab\"/></a>"
      ]
    },
    {
      "cell_type": "markdown",
      "source": [
        "# **Lecture 4 Exercises**\n",
        "\n",
        "\n"
      ],
      "metadata": {
        "id": "ojbnnuoubCW6"
      }
    },
    {
      "cell_type": "markdown",
      "source": [
        "## Exercise 1 - Debugging Neural Networks\n",
        "\"I did not get around to seeing what happens when you initialize all weights and biases to zero. Try this and train the neural net. You might think either that 1) the network trains just fine or 2) the network doesn't train at all, but actually it is 3) the network trains but only partially, and achieves a pretty bad final performance. Inspect the gradients and activations to figureout what is happening and why the network is only partially training, and what part is being trained exactly.\" \n",
        "\n",
        "\n",
        "\n"
      ],
      "metadata": {
        "id": "GJg5NrVAeL_Z"
      }
    },
    {
      "cell_type": "markdown",
      "source": [
        "Answers found out\n",
        "\n",
        "1. Something is learning - the loss is indeed going down\n",
        "2. But no changes in weights - but there has to be gradients flowing back\n",
        "3. BIASS it is. BIAS is LEARNING. but why? \n",
        "\n",
        "But\n",
        "\n",
        "1. check how are the gradients flowing back. (and changing the bias)\n",
        "2. check WHY weights are not learning. yes they are zero initialized- but so what?\n",
        "\n",
        "Cannot seem to figure out why the weights are not being updated at all - they should get some gradient\n",
        "\n",
        "Are the previous neurons all 'dead'?"
      ],
      "metadata": {
        "id": "SdjsNEOg1uA2"
      }
    },
    {
      "cell_type": "markdown",
      "source": [
        "### Debugging the NN"
      ],
      "metadata": {
        "id": "48MaFz_na59i"
      }
    },
    {
      "cell_type": "code",
      "execution_count": null,
      "metadata": {
        "id": "moY8IOKlrm9b",
        "colab": {
          "base_uri": "https://localhost:8080/"
        },
        "outputId": "6e0fdd1a-9133-4650-9140-7bb8143a0757"
      },
      "outputs": [
        {
          "output_type": "stream",
          "name": "stdout",
          "text": [
            "--2022-12-06 12:08:32--  https://raw.githubusercontent.com/karpathy/makemore/master/names.txt\n",
            "Resolving raw.githubusercontent.com (raw.githubusercontent.com)... 185.199.108.133, 185.199.109.133, 185.199.110.133, ...\n",
            "Connecting to raw.githubusercontent.com (raw.githubusercontent.com)|185.199.108.133|:443... connected.\n",
            "HTTP request sent, awaiting response... 200 OK\n",
            "Length: 228145 (223K) [text/plain]\n",
            "Saving to: ‘names.txt’\n",
            "\n",
            "names.txt           100%[===================>] 222.80K  --.-KB/s    in 0.009s  \n",
            "\n",
            "2022-12-06 12:08:32 (25.1 MB/s) - ‘names.txt’ saved [228145/228145]\n",
            "\n"
          ]
        }
      ],
      "source": [
        "import torch\n",
        "import torch.nn.functional as F\n",
        "import matplotlib.pyplot as plt # for making figures\n",
        "!wget https://raw.githubusercontent.com/karpathy/makemore/master/names.txt\n",
        "%matplotlib inline\n"
      ]
    },
    {
      "cell_type": "code",
      "source": [
        "# read in all the words\n",
        "words = open('names.txt', 'r').read().splitlines()\n",
        "chars = sorted(list(set(''.join(words))))\n",
        "stoi = {s:i+1 for i,s in enumerate(chars)}\n",
        "stoi['.'] = 0\n",
        "itos = {i:s for s,i in stoi.items()}\n",
        "vocab_size = len(itos)\n",
        "\n",
        "# build the dataset\n",
        "block_size = 3 # context length: how many characters do we take to predict the next one?\n",
        "\n",
        "def build_dataset(words):  \n",
        "  X, Y = [], []\n",
        "  \n",
        "  for w in words:\n",
        "    context = [0] * block_size\n",
        "    for ch in w + '.':\n",
        "      ix = stoi[ch]\n",
        "      X.append(context)\n",
        "      Y.append(ix)\n",
        "      context = context[1:] + [ix] # crop and append\n",
        "\n",
        "  X = torch.tensor(X)\n",
        "  Y = torch.tensor(Y)\n",
        "  return X, Y\n",
        "\n",
        "import random\n",
        "random.seed(42)\n",
        "random.shuffle(words)\n",
        "n1 = int(0.8*len(words))\n",
        "n2 = int(0.9*len(words))\n",
        "\n",
        "Xtr,  Ytr  = build_dataset(words[:n1])     # 80%\n",
        "Xdev, Ydev = build_dataset(words[n1:n2])   # 10%\n",
        "Xte,  Yte  = build_dataset(words[n2:])     # 10%\n",
        "\n"
      ],
      "metadata": {
        "id": "4KZE_EtNru_P"
      },
      "execution_count": null,
      "outputs": []
    },
    {
      "cell_type": "code",
      "source": [
        "class Linear:\n",
        "  \n",
        "  def __init__(self, fan_in, fan_out, bias=True):\n",
        "    self.weight = torch.randn((fan_in, fan_out), generator=g)* 0.0\n",
        "    self.bias = torch.zeros(fan_out) if bias else None\n",
        "  \n",
        "  def __call__(self, x):\n",
        "    self.out = x @ self.weight\n",
        "    if self.bias is not None:\n",
        "      self.out += self.bias\n",
        "    return self.out\n",
        "  \n",
        "  def parameters(self):\n",
        "    return [self.weight] + ([] if self.bias is None else [self.bias])\n",
        "\n",
        "\n",
        "class BatchNorm1d:\n",
        "  \n",
        "  def __init__(self, dim, eps=1e-5, momentum=0.1):\n",
        "    self.eps = eps\n",
        "    self.momentum = momentum\n",
        "    self.training = True\n",
        "    # parameters (trained with backprop)\n",
        "    self.gamma = torch.ones(dim)\n",
        "    self.beta = torch.zeros(dim)\n",
        "    self.running_mean = torch.zeros(dim)\n",
        "    self.running_var = torch.ones(dim)\n",
        "  \n",
        "  def __call__(self, x):\n",
        "    # calculate the forward pass\n",
        "    if self.training:\n",
        "      xmean = x.mean(0, keepdim=True) # batch mean\n",
        "      xvar = x.var(0, keepdim=True) # batch variance\n",
        "    else:\n",
        "      xmean = self.running_mean\n",
        "      xvar = self.running_var\n",
        "    xhat = (x - xmean) / torch.sqrt(xvar + self.eps) # normalize to unit variance\n",
        "    self.out = self.gamma * xhat + self.beta\n",
        "    # update the buffers\n",
        "    if self.training:\n",
        "      with torch.no_grad():\n",
        "        self.running_mean = (1 - self.momentum) * self.running_mean + self.momentum * xmean\n",
        "        self.running_var = (1 - self.momentum) * self.running_var + self.momentum * xvar\n",
        "    return self.out\n",
        "  \n",
        "  def parameters(self):\n",
        "    return [self.gamma, self.beta]\n",
        "\n",
        "class Tanh:\n",
        "  def __call__(self, x):\n",
        "    self.out = torch.tanh(x)\n",
        "    return self.out\n",
        "  def parameters(self):\n",
        "    return []\n"
      ],
      "metadata": {
        "id": "Ce8mhl-iktBt"
      },
      "execution_count": null,
      "outputs": []
    },
    {
      "cell_type": "code",
      "source": [
        "#Parameter Initialization\n",
        "\n",
        "n_embd = 10\n",
        "n_hidden = 100\n",
        "g = torch.Generator().manual_seed(2147483647)\n",
        "\n",
        "C = torch.randn((vocab_size, n_embd),generator=g)\n",
        "layers = [\n",
        "  Linear(n_embd * block_size, n_hidden), Tanh(),\n",
        "  BatchNorm1d(n_hidden),\n",
        "  Linear(n_hidden, vocab_size)\n",
        "]\n",
        "\n",
        "with torch.no_grad():\n",
        "  layers[-1].weight *= 0.0\n",
        "  # all other layers: apply gain\n",
        "  for layer in layers[:-1]:\n",
        "    if isinstance(layer, Linear):\n",
        "      layer.weight *= 0.0 #5/3\n",
        "\n",
        "parameters = [C] + [p for layer in layers for p in layer.parameters()]\n",
        "print(sum(p.nelement() for p in parameters)) # number of parameters in total\n",
        "for p in parameters:\n",
        "  p.requires_grad = True"
      ],
      "metadata": {
        "colab": {
          "base_uri": "https://localhost:8080/"
        },
        "id": "aaYw7XAsl03d",
        "outputId": "cb77ea73-2c0a-493d-8863-102802f89b61"
      },
      "execution_count": null,
      "outputs": [
        {
          "output_type": "stream",
          "name": "stdout",
          "text": [
            "6297\n"
          ]
        }
      ]
    },
    {
      "cell_type": "code",
      "source": [
        "# same optimization as last time\n",
        "max_steps = 200000\n",
        "batch_size = 32\n",
        "lossi = []\n",
        "ud = []\n",
        "\n",
        "for i in range(max_steps):\n",
        "  \n",
        "  # minibatch construct\n",
        "  ix = torch.randint(0, Xtr.shape[0], (batch_size,), generator=g)\n",
        "  Xb, Yb = Xtr[ix], Ytr[ix] # batch X,Y\n",
        "  # forward pass\n",
        "  emb = C[Xb] # embed the characters into vectors\n",
        "  x = emb.view(emb.shape[0], -1) # concatenate the vectors\n",
        "  j = 0\n",
        "  for layer in layers:\n",
        "    x = layer(x)\n",
        "    # if isinstance(layer, Linear) and i%10000 == 0:\n",
        "    #   print(x, 'now bias', layer.bias, layer.bias.sum(), 'BIASSS',  layer.__class__.__name__, '---------')\n",
        "    #   print('------------------------------------------------------------------------')\n",
        "\n",
        "  loss = F.cross_entropy(x, Yb) # loss function\n",
        "\n",
        "  if i%10000 == 0: print(loss.item(), 'LOSSSS');\n",
        "  # if i == 2: \n",
        "  #   print('breaking')\n",
        "  #   break\n",
        "\n",
        "\n",
        "  # backward pass\n",
        "  for layer in layers:\n",
        "    layer.out.retain_grad() # AFTER_DEBUG: would take out retain_graph\n",
        "  for p in parameters:\n",
        "    p.grad = None\n",
        "  loss.backward()\n",
        "\n",
        "  \n",
        "  # update\n",
        "  lr = 0.1 if i < 150000 else 0.01 # step learning rate decay\n",
        "  for p in parameters:\n",
        "    # print(p.grad , ' GRADIENTSS', p, 'P ITSLED')\n",
        "    p.data += -lr * p.grad\n",
        "\n",
        "  # track stats\n",
        "  if i % 10000 == 0: # print every once in a while\n",
        "    print(f'{i:7d}/{max_steps:7d}: {loss.item():.4f}')\n",
        "  lossi.append(loss.log10().item())\n",
        "  with torch.no_grad():\n",
        "    ud.append([((lr*p.grad).std() / p.data.std()).log10().item() for p in parameters])  "
      ],
      "metadata": {
        "id": "W4LMs4kwr6OW"
      },
      "execution_count": null,
      "outputs": []
    },
    {
      "cell_type": "code",
      "source": [
        "plt.plot(lossi)"
      ],
      "metadata": {
        "colab": {
          "base_uri": "https://localhost:8080/",
          "height": 283
        },
        "id": "35HnjffFr7vm",
        "outputId": "bdfadf52-d73e-475c-8967-6daded0ed310"
      },
      "execution_count": null,
      "outputs": [
        {
          "output_type": "execute_result",
          "data": {
            "text/plain": [
              "[<matplotlib.lines.Line2D at 0x7fbccb94cca0>]"
            ]
          },
          "metadata": {},
          "execution_count": 41
        },
        {
          "output_type": "display_data",
          "data": {
            "text/plain": [
              "<Figure size 432x288 with 1 Axes>"
            ],
            "image/png": "[encoded data removed]"
          },
          "metadata": {
            "needs_background": "light"
          }
        }
      ]
    },
    {
      "cell_type": "code",
      "source": [
        "# VISUALIZATIONS FOR THE NEURAL NET\n",
        "\n",
        "# Activations Distribution\n",
        "plt.figure(figsize=(20, 4)) # width and height of the plot\n",
        "legends = []\n",
        "for i, layer in enumerate(layers): # note: exclude the output layer\n",
        "    t = layer.out\n",
        "    print('layer %d (%10s): mean %+.2f, std %.2f, saturated: %.2f%%' % (i, layer.__class__.__name__, t.mean(), t.std(), (t.abs() > 0.97).float().mean()*100))\n",
        "    hy, hx = torch.histogram(t, density=True)\n",
        "    plt.plot(hx[:-1].detach(), hy.detach())\n",
        "    legends.append(f'layer {i} ({layer.__class__.__name__}')\n",
        "plt.legend(legends);\n",
        "plt.title('activation distribution')"
      ],
      "metadata": {
        "colab": {
          "base_uri": "https://localhost:8080/",
          "height": 355
        },
        "id": "SEaLjA4cn6Oa",
        "outputId": "7b47c5fb-f711-41da-b545-8106d7ce369f"
      },
      "execution_count": null,
      "outputs": [
        {
          "output_type": "stream",
          "name": "stdout",
          "text": [
            "layer 0 (    Linear): mean +0.00, std 0.00, saturated: 0.00%\n",
            "layer 1 (      Tanh): mean +0.00, std 0.00, saturated: 0.00%\n",
            "layer 2 (    Linear): mean +0.00, std 1.20, saturated: 44.44%\n"
          ]
        },
        {
          "output_type": "execute_result",
          "data": {
            "text/plain": [
              "Text(0.5, 1.0, 'activation distribution')"
            ]
          },
          "metadata": {},
          "execution_count": 48
        },
        {
          "output_type": "display_data",
          "data": {
            "text/plain": [
              "<Figure size 1440x288 with 1 Axes>"
            ],
            "image/png": "[encoded data removed]"
          },
          "metadata": {
            "needs_background": "light"
          }
        }
      ]
    },
    {
      "cell_type": "code",
      "source": [
        "\n",
        "# Gradients Distribution\n",
        "legends = []\n",
        "for i, layer in enumerate(layers): # note: exclude the output layer\n",
        "    t = layer.out.grad\n",
        "    print('layer %d (%10s): mean %+f, std %e' % (i, layer.__class__.__name__, t.mean(), t.std()))\n",
        "    hy, hx = torch.histogram(t, density=True)\n",
        "    plt.plot(hx[:-1].detach(), hy.detach())\n",
        "    legends.append(f'layer {i} ({layer.__class__.__name__}')\n",
        "plt.legend(legends);\n",
        "plt.title('gradient distribution')"
      ],
      "metadata": {
        "colab": {
          "base_uri": "https://localhost:8080/",
          "height": 355
        },
        "id": "PZ8i3kman8JS",
        "outputId": "ca5a667a-20e7-4971-ac8b-d5391261ff5d"
      },
      "execution_count": null,
      "outputs": [
        {
          "output_type": "stream",
          "name": "stdout",
          "text": [
            "layer 0 (    Linear): mean +0.000000, std 0.000000e+00\n",
            "layer 1 (      Tanh): mean +0.000000, std 0.000000e+00\n",
            "layer 2 (    Linear): mean +0.000000, std 5.763228e-03\n"
          ]
        },
        {
          "output_type": "execute_result",
          "data": {
            "text/plain": [
              "Text(0.5, 1.0, 'gradient distribution')"
            ]
          },
          "metadata": {},
          "execution_count": 49
        },
        {
          "output_type": "display_data",
          "data": {
            "text/plain": [
              "<Figure size 432x288 with 1 Axes>"
            ],
            "image/png": "[encoded data removed]"
          },
          "metadata": {
            "needs_background": "light"
          }
        }
      ]
    },
    {
      "cell_type": "code",
      "source": [
        "# Weight/Gradient Distribution \n",
        "legends = []\n",
        "for i,p in enumerate(parameters):\n",
        "  t = p.grad\n",
        "  if p.ndim == 2:\n",
        "    print('weight %10s | mean %+f | std %e | grad:data ratio %e' % (tuple(p.shape), t.mean(), t.std(), t.std() / p.std()))\n",
        "    hy, hx = torch.histogram(t, density=True)\n",
        "    plt.plot(hx[:-1].detach(), hy.detach())\n",
        "    legends.append(f'{i} {tuple(p.shape)}')\n",
        "plt.legend(legends)\n",
        "plt.title('weights gradient distribution');"
      ],
      "metadata": {
        "colab": {
          "base_uri": "https://localhost:8080/",
          "height": 336
        },
        "id": "37EcLGA7n9nw",
        "outputId": "24aef155-1a8e-48da-df66-12f87a220673"
      },
      "execution_count": null,
      "outputs": [
        {
          "output_type": "stream",
          "name": "stdout",
          "text": [
            "weight   (27, 10) | mean +0.000000 | std 0.000000e+00 | grad:data ratio 0.000000e+00\n",
            "weight  (30, 100) | mean +0.000000 | std 0.000000e+00 | grad:data ratio nan\n",
            "weight  (100, 27) | mean +0.000000 | std 0.000000e+00 | grad:data ratio nan\n"
          ]
        },
        {
          "output_type": "display_data",
          "data": {
            "text/plain": [
              "<Figure size 432x288 with 1 Axes>"
            ],
            "image/png": "[encoded data removed]"
          },
          "metadata": {
            "needs_background": "light"
          }
        }
      ]
    },
    {
      "cell_type": "code",
      "source": [
        "# Update to weight Distribution \n",
        "legends = []\n",
        "for i,p in enumerate(parameters):\n",
        "  if p.ndim == 2:\n",
        "    plt.plot([ud[j][i] for j in range(len(ud))])\n",
        "    legends.append('param %d' % i)\n",
        "plt.plot([0, len(ud)], [-3, -3], 'k') # these ratios should be ~1e-3, indicate on plot\n",
        "plt.legend(legends);\n"
      ],
      "metadata": {
        "colab": {
          "base_uri": "https://localhost:8080/",
          "height": 265
        },
        "id": "UrZQDTE2ii3G",
        "outputId": "6a65d224-2408-4702-d052-a93f25633e2c"
      },
      "execution_count": null,
      "outputs": [
        {
          "output_type": "display_data",
          "data": {
            "text/plain": [
              "<Figure size 432x288 with 1 Axes>"
            ],
            "image/png": "[encoded data removed]"
          },
          "metadata": {
            "needs_background": "light"
          }
        }
      ]
    },
    {
      "cell_type": "code",
      "source": [
        "@torch.no_grad() # this decorator disables gradient tracking\n",
        "def split_loss(split):\n",
        "  x,y = {\n",
        "    'train': (Xtr, Ytr),\n",
        "    'val': (Xdev, Ydev),\n",
        "    'test': (Xte, Yte),\n",
        "  }[split]\n",
        "  emb = C[x] # (N, block_size, n_embd)\n",
        "  x = emb.view(emb.shape[0], -1) # concat into (N, block_size * n_embd)\n",
        "  for layer in layers:\n",
        "    x = layer(x)\n",
        "  loss = F.cross_entropy(x, y)\n",
        "  print(split, loss.item())\n",
        "\n",
        "# put layers into eval mode\n",
        "for layer in layers:\n",
        "  layer.training = False\n",
        "split_loss('train')\n",
        "split_loss('val')"
      ],
      "metadata": {
        "id": "Vsr5wWYCr_JA"
      },
      "execution_count": null,
      "outputs": []
    },
    {
      "cell_type": "markdown",
      "source": [
        "## Exercise 2 - Batchnorm Folding (faster inference)\n",
        "\n",
        "\"BatchNorm, unlike other normalization layers like LayerNorm/GroupNorm etc. has the big advantage that after training, the batchnorm gamma/beta can be \"folded into\" the weights of the preceeding Linear layers, effectively erasing the need to forward it at test time. Set up a small 3-layer MLP with batchnorms, train the network, then \"fold\" the batchnorm gamma/beta into the preceeding Linear layer's W,b by creating a new W2, b2 and erasing the batch norm. Verify that this gives the same forward pass during inference. i.e. we see that the batchnorm is there just for stabilizing the training, and can be thrown out after training is done! pretty cool.\""
      ],
      "metadata": {
        "id": "Gh9EXN2-Hfm5"
      }
    },
    {
      "cell_type": "code",
      "source": [
        "# Let's train a deeper network\n",
        "# The classes we create here are the same API as nn.Module in PyTorch\n",
        "\n",
        "class Linear:\n",
        "  \n",
        "  def __init__(self, fan_in, fan_out, bias=True, device='cuda'):\n",
        "    self.weight = torch.randn((fan_in, fan_out), generator=g, device=device) / fan_in**0.5\n",
        "    self.bias = torch.zeros(fan_out, device=device) if bias else None\n",
        "  \n",
        "  def __call__(self, x):\n",
        "    self.out = x @ self.weight\n",
        "    if self.bias is not None:\n",
        "      self.out += self.bias\n",
        "    return self.out\n",
        "  \n",
        "  def parameters(self):\n",
        "    return [self.weight] + ([] if self.bias is None else [self.bias])\n",
        "\n",
        "\n",
        "class BatchNorm1d:\n",
        "  \n",
        "  def __init__(self, dim, eps=1e-5, momentum=0.1, device='cuda'):\n",
        "    self.eps = eps\n",
        "    self.momentum = momentum\n",
        "    self.training = True\n",
        "    # parameters (trained with backprop)\n",
        "    self.gamma = torch.ones(dim, device=device)\n",
        "    self.beta = torch.zeros(dim, device=device)\n",
        "    # buffers (trained with a running 'momentum update')\n",
        "    self.running_mean = torch.zeros(dim, device=device)\n",
        "    self.running_var = torch.ones(dim, device=device)\n",
        "  \n",
        "  def __call__(self, x):\n",
        "    # calculate the forward pass\n",
        "    if self.training:\n",
        "      xmean = x.mean(0, keepdim=True) # batch mean\n",
        "      xvar = x.var(0, keepdim=True) # batch variance\n",
        "    else:\n",
        "      xmean = self.running_mean\n",
        "      xvar = self.running_var\n",
        "    xhat = (x - xmean) / torch.sqrt(xvar + self.eps) # normalize to unit variance\n",
        "    self.out = self.gamma * xhat + self.beta\n",
        "    # update the buffers\n",
        "    if self.training:\n",
        "      with torch.no_grad():\n",
        "        self.running_mean = (1 - self.momentum) * self.running_mean + self.momentum * xmean\n",
        "        self.running_var = (1 - self.momentum) * self.running_var + self.momentum * xvar\n",
        "    return self.out\n",
        "  \n",
        "  def parameters(self):\n",
        "    return [self.gamma, self.beta]\n",
        "\n",
        "class Tanh:\n",
        "  def __call__(self, x):\n",
        "    self.out = torch.tanh(x)\n",
        "    return self.out\n",
        "  def parameters(self):\n",
        "    return []"
      ],
      "metadata": {
        "id": "247onkh1Qudp"
      },
      "execution_count": null,
      "outputs": []
    },
    {
      "cell_type": "code",
      "source": [
        "n_embd = 10 # the dimensionality of the character embedding vectors\n",
        "n_hidden = 100 # the number of neurons in the hidden layer of the MLP\n",
        "\n",
        "device = torch.device(\"cuda\" if torch.cuda.is_available() else \"cpu\")\n",
        "\n",
        "g = torch.Generator(device=device).manual_seed(2147483647) # for reproducibility\n",
        "print(device)\n",
        "\n",
        "C = torch.randn((vocab_size, n_embd), device=device,           generator=g)\n",
        "layers = [\n",
        "  Linear(n_embd * block_size, n_hidden, bias=False, device=device), BatchNorm1d(n_hidden, device=device), Tanh(),\n",
        "  Linear(           n_hidden, n_hidden, bias=False, device=device), BatchNorm1d(n_hidden, device=device), Tanh(),\n",
        "  Linear(           n_hidden, vocab_size, bias=False, device=device), BatchNorm1d(vocab_size, device=device),\n",
        "]\n",
        "with torch.no_grad():\n",
        "  # last layer: make less confident\n",
        "  layers[-1].gamma *= 0.1\n",
        "  # layers[-1].weight *= 0.1 (with linear last layer)|\n",
        "\n",
        "  for layer in layers[:-1]:\n",
        "    if isinstance(layer, Linear):\n",
        "      layer.weight *= 5/3\n",
        "\n",
        "parameters = [C] + [p for layer in layers for p in layer.parameters()]\n",
        "print(sum(p.nelement() for p in parameters)) # number of parameters in total\n",
        "for p in parameters:\n",
        "  p.requires_grad = True\n",
        "  p.to(device)"
      ],
      "metadata": {
        "colab": {
          "base_uri": "https://localhost:8080/"
        },
        "id": "9BRwiTmLTbf1",
        "outputId": "5d951e69-3838-4bcb-b607-418bbd48d532"
      },
      "execution_count": null,
      "outputs": [
        {
          "output_type": "stream",
          "name": "stdout",
          "text": [
            "cuda\n",
            "16424\n"
          ]
        }
      ]
    },
    {
      "cell_type": "code",
      "source": [
        "# same optimization as last time\n",
        "max_steps = 200000\n",
        "batch_size = 32\n",
        "lossi = []\n",
        "ud = []\n",
        "\n",
        "for i in range(max_steps):\n",
        "  \n",
        "  # minibatch construct\n",
        "  ix = torch.randint(0, Xtr.shape[0], (batch_size,), generator=g, device=device)\n",
        "  Xb, Yb = torch.tensor(Xtr[ix], device=device), torch.tensor(Ytr[ix], device=device) # batch X,Y\n",
        "  # forward pass\n",
        "  emb = C[Xb] # embed the characters into vectors\n",
        "  x = emb.view(emb.shape[0], -1) # concatenate the vectors\n",
        "  for layer in layers:\n",
        "    x = layer(x)\n",
        "  loss = F.cross_entropy(x, Yb) # loss function\n",
        "  \n",
        "  # backward pass\n",
        "  for layer in layers:\n",
        "    layer.out.retain_grad() # AFTER_DEBUG: would take out retain_graph\n",
        "  for p in parameters:\n",
        "    p.grad = None\n",
        "  loss.backward()\n",
        "\n",
        "# update\n",
        "  lr = 0.1 if i < 150000 else 0.01 # step learning rate decay\n",
        "  for p in parameters:\n",
        "    p.data += -lr * p.grad\n",
        "\n",
        "# track stats\n",
        "  if i % 10000 == 0: # print every once in a while\n",
        "    print(f'{i:7d}/{max_steps:7d}: {loss.item():.4f}')\n",
        "  lossi.append(loss.log10().item())\n",
        "  with torch.no_grad():\n",
        "    ud.append([((lr*p.grad).std() / p.data.std()).log10().item() for p in parameters])"
      ],
      "metadata": {
        "id": "-N7Pax6wQudq"
      },
      "execution_count": null,
      "outputs": []
    },
    {
      "cell_type": "markdown",
      "source": [
        "![image.png](data:image/png;base64,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)   \n",
        "\n",
        "\n",
        "![image.png](data:image/png;base64,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)"
      ],
      "metadata": {
        "id": "YaePzoDdlVb8"
      }
    },
    {
      "cell_type": "code",
      "source": [
        "# Batchnorm folding (backwards), for forward fold look at https://arxiv.org/pdf/2203.14646.pdf\n",
        "for i in range(len(layers)):\n",
        "  if isinstance(layers[i], BatchNorm1d):\n",
        "    layers[i-1].weight = layers[i].gamma * (layers[i-1].weight/torch.sqrt(layers[i].running_var+ layers[i].eps))\n",
        "    \n",
        "    if layers[i-1].bias is None:\n",
        "      layers[i-1].bias =  torch.zeros(layers[i-1].weight.size(1)).float().to(device)\n",
        "      print(layers[i-1].bias.size(), layers[i].gamma.size(), layers[i].running_mean.size(), layers[i].running_var.size(), layers[i].beta.size(), layers[i-1].weight.size())\n",
        "      layers[i-1].bias = layers[i].gamma * ( (layers[i-1].bias - layers[i].running_mean) / torch.sqrt(layers[i].running_var+ layers[i].eps)  ) + layers[i].beta\n",
        "\n",
        "    else:\n",
        "      print(layers[i-1].bias.size(), layers[i].gamma.size(), layers[i].running_mean.size(), layers[i].running_var.size(), layers[i].beta.size(), layers[i-1].weight.size())\n",
        "      layers[i-1].bias = layers[i].gamma * ( (layers[i-1].bias - layers[i].running_mean) / torch.sqrt(layers[i].running_var+ layers[i].eps)  ) + layers[i].beta"
      ],
      "metadata": {
        "colab": {
          "base_uri": "https://localhost:8080/"
        },
        "id": "DOOCqhvLiW2w",
        "outputId": "3d68bc66-eee9-4759-b459-7a7d33d0b453"
      },
      "execution_count": null,
      "outputs": [
        {
          "output_type": "stream",
          "name": "stdout",
          "text": [
            "torch.Size([100]) torch.Size([100]) torch.Size([1, 100]) torch.Size([1, 100]) torch.Size([100]) torch.Size([30, 100])\n",
            "torch.Size([100]) torch.Size([100]) torch.Size([1, 100]) torch.Size([1, 100]) torch.Size([100]) torch.Size([100, 100])\n",
            "torch.Size([27]) torch.Size([27]) torch.Size([1, 27]) torch.Size([1, 27]) torch.Size([27]) torch.Size([100, 27])\n"
          ]
        }
      ]
    },
    {
      "cell_type": "code",
      "source": [
        "# Before Batch Norm Folding -\n",
        "#   train 2.0560011863708496\n",
        "#   val 2.1096513271331787\n",
        "\n",
        "# After Batch Norm Folding-\n",
        "#   train 2.0560009479522705\n",
        "#   val 2.1096513271331787\n",
        "\n",
        "# WORKED :)))))"
      ],
      "metadata": {
        "id": "svxq9oBDtsVv"
      },
      "execution_count": null,
      "outputs": []
    },
    {
      "cell_type": "code",
      "source": [
        "@torch.no_grad() # this decorator disables gradient tracking\n",
        "def split_loss(split, batchnorm_fold=False):\n",
        "  x,y = {\n",
        "    'train': (Xtr, Ytr),\n",
        "    'val': (Xdev, Ydev),\n",
        "    'test': (Xte, Yte),\n",
        "  }[split]\n",
        "  x = torch.tensor(x, device=device)\n",
        "  y = torch.tensor(y, device=device)\n",
        "  emb = torch.tensor(C[x], device=device) # (N, block_size, n_embd)\n",
        "  x = emb.view(emb.shape[0], -1) # concat into (N, block_size * n_embd)\n",
        "\n",
        "  if batchnorm_fold == True:\n",
        "    for layer in layers:\n",
        "       if not isinstance(layer, BatchNorm1d):\n",
        "         print(layer)\n",
        "         x = layer(x)\n",
        "  else:\n",
        "    for layer in layers:\n",
        "      x = layer(x)\n",
        "\n",
        "  loss = F.cross_entropy(x, y)\n",
        "  print(split, loss.item())\n",
        "# put layers into eval mode\n",
        "for layer in layers:\n",
        "  layer.training = False\n",
        "split_loss('train', batchnorm_fold=True)\n",
        "split_loss('val', batchnorm_fold=True)"
      ],
      "metadata": {
        "id": "a2HKFFtKQudr"
      },
      "execution_count": null,
      "outputs": []
    },
    {
      "cell_type": "markdown",
      "source": [
        "# **Layer Normalization** \n",
        "(bonus, own implementation)"
      ],
      "metadata": {
        "id": "M74AtDJqZepr"
      }
    },
    {
      "cell_type": "markdown",
      "source": [
        "##Parameters Intialization"
      ],
      "metadata": {
        "id": "7hjKIK1eH6Qa"
      }
    },
    {
      "cell_type": "code",
      "source": [
        "n_embd = 10 \n",
        "n_hidden = 200\n",
        "g = torch.Generator().manual_seed(2147483647)\n",
        "C  = torch.randn((vocab_size, n_embd),            generator=g)\n",
        "W1 = torch.randn((n_embd * block_size, n_hidden), generator=g) * (5/3)/((n_embd * block_size)**0.5) \n",
        "W2 = torch.randn((n_hidden, vocab_size),          generator=g) * 0.01\n",
        "b2 = torch.randn(vocab_size,                      generator=g) * 0\n",
        "bngain = torch.ones((1, n_hidden))\n",
        "bnbias = torch.zeros((1, n_hidden))\n",
        "bnmean_running = torch.zeros((1, n_hidden))\n",
        "bnstd_running = torch.ones((1, n_hidden))\n",
        "parameters = [C, W1, W2, b2, bngain, bnbias]\n",
        "print(sum(p.nelement() for p in parameters))\n",
        "for p in parameters:\n",
        "  p.requires_grad = True"
      ],
      "metadata": {
        "id": "DnWl15JZZuN-"
      },
      "execution_count": null,
      "outputs": []
    },
    {
      "cell_type": "markdown",
      "source": [
        "##Training"
      ],
      "metadata": {
        "id": "WshwrtDkIEFt"
      }
    },
    {
      "cell_type": "code",
      "source": [
        "max_steps = 200000\n",
        "batch_size = 32\n",
        "lossi = []\n",
        "\n",
        "for i in range(max_steps):\n",
        "  \n",
        "  ix = torch.randint(0, Xtr.shape[0], (batch_size,), generator=g)\n",
        "  Xb, Yb = Xtr[ix], Ytr[ix] # batch X,Y\n",
        "  \n",
        "  emb = C[Xb]\n",
        "  embcat = emb.view(emb.shape[0], -1) \n",
        "  hpreact = embcat @ W1\n",
        "\n",
        " #Here is the difference - we mean over the 1st dimension (different features in a single layer, rather than same features in a batch)\n",
        "  bnmeani = hpreact.mean(1, keepdim=True)\n",
        "  bnstdi = hpreact.std(1, keepdim=True)\n",
        "  hpreact = bngain * (hpreact - bnmeani) / bnstdi + bnbias\n",
        "  with torch.no_grad():\n",
        "    bnmean_running = 0.999 * bnmean_running + 0.001 * bnmeani\n",
        "    bnstd_running = 0.999 * bnstd_running + 0.001 * bnstdi\n",
        "  # -------------------------------------------------------------\n",
        "  h = torch.tanh(hpreact) \n",
        "  logits = h @ W2 + b2\n",
        "  loss = F.cross_entropy(logits, Yb)\n",
        "  for p in parameters:\n",
        "    p.grad = None\n",
        "  loss.backward()\n",
        "  \n",
        "  lr = 0.1 if i < 100000 else 0.01 \n",
        "  for p in parameters:\n",
        "    p.data += -lr * p.grad\n",
        "\n",
        "\n",
        "  if i % 10000 == 0:\n",
        "    print(f'{i:7d}/{max_steps:7d}: {loss.item():.4f}')\n",
        "  lossi.append(loss.log10().item())"
      ],
      "metadata": {
        "id": "GZr5oHO_Z5M8"
      },
      "execution_count": null,
      "outputs": []
    },
    {
      "cell_type": "markdown",
      "source": [
        "##Inference"
      ],
      "metadata": {
        "id": "SvUzeroIIBHV"
      }
    },
    {
      "cell_type": "code",
      "source": [
        "#During Inference, we no longer have a running mean- we just calculate means on the fly for each layer as new inputs come\n",
        "@torch.no_grad() \n",
        "def split_loss(split):\n",
        "  x,y = {\n",
        "    'train': (Xtr, Ytr),\n",
        "    'val': (Xdev, Ydev),\n",
        "    'test': (Xte, Yte),\n",
        "  }[split]\n",
        "  emb = C[x]\n",
        "  embcat = emb.view(emb.shape[0], -1)\n",
        "  hpreact = embcat @ W1\n",
        "  #Again, mean over the 1st dimension, and calculating them on the fly, even during inference. \n",
        "  hpreact = bngain * (hpreact - hpreact.mean(1, keepdim=True)) / hpreact.std(1, keepdim=True) + bnbias\n",
        "  h = torch.tanh(hpreact) # (N, n_hidden)\n",
        "  logits = h @ W2 + b2 # (N, vocab_size)\n",
        "  loss = F.cross_entropy(logits, y)\n",
        "  print(split, loss.item())\n",
        "\n",
        "split_loss('train')\n",
        "split_loss('val')"
      ],
      "metadata": {
        "id": "zGSzgO3WaU3f"
      },
      "execution_count": null,
      "outputs": []
    },
    {
      "cell_type": "markdown",
      "source": [
        "# **Understanding** **Visualizations**"
      ],
      "metadata": {
        "id": "scPBaJ7cF8_U"
      }
    },
    {
      "cell_type": "markdown",
      "source": [
        "### Pytorchified Neural Networks Boilerplate"
      ],
      "metadata": {
        "id": "y3bNAAL-G8-5"
      }
    },
    {
      "cell_type": "code",
      "source": [
        "# Let's train a deeper network\n",
        "# The classes we create here are the same API as nn.Module in PyTorch\n",
        "\n",
        "class Linear:\n",
        "  \n",
        "  def __init__(self, fan_in, fan_out, bias=True):\n",
        "    self.weight = torch.randn((fan_in, fan_out), generator=g) / fan_in**0.5\n",
        "    self.bias = torch.zeros(fan_out) if bias else None\n",
        "  \n",
        "  def __call__(self, x):\n",
        "    self.out = x @ self.weight\n",
        "    if self.bias is not None:\n",
        "      self.out += self.bias\n",
        "    return self.out\n",
        "  \n",
        "  def parameters(self):\n",
        "    return [self.weight] + ([] if self.bias is None else [self.bias])\n",
        "\n",
        "\n",
        "class BatchNorm1d:\n",
        "  \n",
        "  def __init__(self, dim, eps=1e-5, momentum=0.1):\n",
        "    self.eps = eps\n",
        "    self.momentum = momentum\n",
        "    self.training = True\n",
        "    # parameters (trained with backprop)\n",
        "    self.gamma = torch.ones(dim)\n",
        "    self.beta = torch.zeros(dim)\n",
        "    # buffers (trained with a running 'momentum update')\n",
        "    self.running_mean = torch.zeros(dim)\n",
        "    self.running_var = torch.ones(dim)\n",
        "  \n",
        "  def __call__(self, x):\n",
        "    # calculate the forward pass\n",
        "    if self.training:\n",
        "      xmean = x.mean(0, keepdim=True) # batch mean\n",
        "      xvar = x.var(0, keepdim=True) # batch variance\n",
        "    else:\n",
        "      xmean = self.running_mean\n",
        "      xvar = self.running_var\n",
        "    xhat = (x - xmean) / torch.sqrt(xvar + self.eps) # normalize to unit variance\n",
        "    self.out = self.gamma * xhat + self.beta\n",
        "    # update the buffers\n",
        "    if self.training:\n",
        "      with torch.no_grad():\n",
        "        self.running_mean = (1 - self.momentum) * self.running_mean + self.momentum * xmean\n",
        "        self.running_var = (1 - self.momentum) * self.running_var + self.momentum * xvar\n",
        "    return self.out\n",
        "  \n",
        "  def parameters(self):\n",
        "    return [self.gamma, self.beta]\n",
        "\n",
        "class Tanh:\n",
        "  def __call__(self, x):\n",
        "    self.out = torch.tanh(x)\n",
        "    return self.out\n",
        "  def parameters(self):\n",
        "    return []\n",
        "\n",
        "n_embd = 10 # the dimensionality of the character embedding vectors\n",
        "n_hidden = 100 # the number of neurons in the hidden layer of the MLP\n",
        "g = torch.Generator().manual_seed(2147483647) # for reproducibility\n",
        "\n",
        "C = torch.randn((vocab_size, n_embd),            generator=g)\n",
        "layers = [\n",
        "  Linear(n_embd * block_size, n_hidden, bias=False), BatchNorm1d(n_hidden), Tanh(),\n",
        "  Linear(           n_hidden, n_hidden, bias=False), BatchNorm1d(n_hidden), Tanh(),\n",
        "  Linear(           n_hidden, n_hidden, bias=False), BatchNorm1d(n_hidden), Tanh(),\n",
        "  Linear(           n_hidden, n_hidden, bias=False), BatchNorm1d(n_hidden), Tanh(),\n",
        "  Linear(           n_hidden, n_hidden, bias=False), BatchNorm1d(n_hidden), Tanh(),\n",
        "  Linear(           n_hidden, vocab_size, bias=False), BatchNorm1d(vocab_size),\n",
        "]\n",
        "# layers = [\n",
        "#   Linear(n_embd * block_size, n_hidden), Tanh(),\n",
        "#   Linear(           n_hidden, n_hidden), Tanh(),\n",
        "#   Linear(           n_hidden, n_hidden), Tanh(),\n",
        "#   Linear(           n_hidden, n_hidden), Tanh(),\n",
        "#   Linear(           n_hidden, n_hidden), Tanh(),\n",
        "#   Linear(           n_hidden, vocab_size),\n",
        "# ]\n",
        "\n",
        "with torch.no_grad():\n",
        "  # last layer: make less confident\n",
        "  layers[-1].gamma *= 0.1\n",
        "  #layers[-1].weight *= 0.1\n",
        "  # all other layers: apply gain\n",
        "  for layer in layers[:-1]:\n",
        "    if isinstance(layer, Linear):\n",
        "      layer.weight *= 1.0 #5/3\n",
        "\n",
        "parameters = [C] + [p for layer in layers for p in layer.parameters()]\n",
        "print(sum(p.nelement() for p in parameters)) # number of parameters in total\n",
        "for p in parameters:\n",
        "  p.requires_grad = True"
      ],
      "metadata": {
        "id": "uqfxb3-dGD6Z"
      },
      "execution_count": null,
      "outputs": []
    },
    {
      "cell_type": "code",
      "source": [
        "# same optimization as last time\n",
        "max_steps = 200000\n",
        "batch_size = 32\n",
        "lossi = []\n",
        "ud = []\n",
        "\n",
        "for i in range(max_steps):\n",
        "  \n",
        "  # minibatch construct\n",
        "  ix = torch.randint(0, Xtr.shape[0], (batch_size,), generator=g)\n",
        "  Xb, Yb = Xtr[ix], Ytr[ix] # batch X,Y\n",
        "  \n",
        "  # forward pass\n",
        "  emb = C[Xb] # embed the characters into vectors\n",
        "  x = emb.view(emb.shape[0], -1) # concatenate the vectors\n",
        "  for layer in layers:\n",
        "    x = layer(x)\n",
        "  loss = F.cross_entropy(x, Yb) # loss function\n",
        "  \n",
        "  # backward pass\n",
        "  for layer in layers:\n",
        "    layer.out.retain_grad() # AFTER_DEBUG: would take out retain_graph\n",
        "  for p in parameters:\n",
        "    p.grad = None\n",
        "  loss.backward()\n",
        "  \n",
        "  # update\n",
        "  lr = 0.1 if i < 150000 else 0.01 # step learning rate decay\n",
        "  for p in parameters:\n",
        "    p.data += -lr * p.grad\n",
        "\n",
        "  # track stats\n",
        "  if i % 10000 == 0: # print every once in a while\n",
        "    print(f'{i:7d}/{max_steps:7d}: {loss.item():.4f}')\n",
        "  lossi.append(loss.log10().item())\n",
        "  with torch.no_grad():\n",
        "    ud.append([((lr*p.grad).std() / p.data.std()).log10().item() for p in parameters])\n",
        "\n",
        "  if i >= 1000:\n",
        "    break # AFTER_DEBUG: would take out obviously to run full optimization"
      ],
      "metadata": {
        "id": "YohXSv5sGIOV"
      },
      "execution_count": null,
      "outputs": []
    },
    {
      "cell_type": "code",
      "source": [
        "# VISUALIZATIONS FOR THE NEURAL NET\n",
        "\n",
        "# Activations Distribution\n",
        "plt.figure(figsize=(20, 4)) # width and height of the plot\n",
        "legends = []\n",
        "for i, layer in enumerate(layers): # note: exclude the output layer\n",
        "    t = layer.out\n",
        "    print('layer %d (%10s): mean %+.2f, std %.2f, saturated: %.2f%%' % (i, layer.__class__.__name__, t.mean(), t.std(), (t.abs() > 0.97).float().mean()*100))\n",
        "    hy, hx = torch.histogram(t, density=True)\n",
        "    plt.plot(hx[:-1].detach(), hy.detach())\n",
        "    legends.append(f'layer {i} ({layer.__class__.__name__}')\n",
        "plt.legend(legends);\n",
        "plt.title('activation distribution')"
      ],
      "metadata": {
        "id": "cbiP1xflGMNt"
      },
      "execution_count": null,
      "outputs": []
    },
    {
      "cell_type": "code",
      "source": [
        "# Gradients Distribution\n",
        "legends = []\n",
        "for i, layer in enumerate(layers): # note: exclude the output layer\n",
        "    t = layer.out.grad\n",
        "    print('layer %d (%10s): mean %+f, std %e' % (i, layer.__class__.__name__, t.mean(), t.std()))\n",
        "    hy, hx = torch.histogram(t, density=True)\n",
        "    plt.plot(hx[:-1].detach(), hy.detach())\n",
        "    legends.append(f'layer {i} ({layer.__class__.__name__}')\n",
        "plt.legend(legends);\n",
        "plt.title('gradient distribution')"
      ],
      "metadata": {
        "id": "OxPKTufxGX_4"
      },
      "execution_count": null,
      "outputs": []
    },
    {
      "cell_type": "code",
      "source": [
        "# Weight/Gradient Distribution \n",
        "legends = []\n",
        "for i,p in enumerate(parameters):\n",
        "  t = p.grad\n",
        "  if p.ndim == 2:\n",
        "    print('weight %10s | mean %+f | std %e | grad:data ratio %e' % (tuple(p.shape), t.mean(), t.std(), t.std() / p.std()))\n",
        "    hy, hx = torch.histogram(t, density=True)\n",
        "    plt.plot(hx[:-1].detach(), hy.detach())\n",
        "    legends.append(f'{i} {tuple(p.shape)}')\n",
        "plt.legend(legends)\n",
        "plt.title('weights gradient distribution');"
      ],
      "metadata": {
        "id": "ImgyGVFjGe9Y"
      },
      "execution_count": null,
      "outputs": []
    },
    {
      "cell_type": "code",
      "source": [
        "# Update to weight Distribution \n",
        "legends = []\n",
        "for i,p in enumerate(parameters):\n",
        "  if p.ndim == 2:\n",
        "    plt.plot([ud[j][i] for j in range(len(ud))])\n",
        "    legends.append('param %d' % i)\n",
        "plt.plot([0, len(ud)], [-3, -3], 'k') # these ratios should be ~1e-3, indicate on plot\n",
        "plt.legend(legends);"
      ],
      "metadata": {
        "id": "fJSmjI7IGhf0"
      },
      "execution_count": null,
      "outputs": []
    },
    {
      "cell_type": "code",
      "source": [
        "@torch.no_grad() # this decorator disables gradient tracking\n",
        "def split_loss(split):\n",
        "  x,y = {\n",
        "    'train': (Xtr, Ytr),\n",
        "    'val': (Xdev, Ydev),\n",
        "    'test': (Xte, Yte),\n",
        "  }[split]\n",
        "  emb = C[x] # (N, block_size, n_embd)\n",
        "  x = emb.view(emb.shape[0], -1) # concat into (N, block_size * n_embd)\n",
        "  for layer in layers:\n",
        "    x = layer(x)\n",
        "  loss = F.cross_entropy(x, y)\n",
        "  print(split, loss.item())\n",
        "\n",
        "# put layers into eval mode\n",
        "for layer in layers:\n",
        "  layer.training = False\n",
        "split_loss('train')\n",
        "split_loss('val')"
      ],
      "metadata": {
        "id": "_Kcae9AjGiAM"
      },
      "execution_count": null,
      "outputs": []
    },
    {
      "cell_type": "code",
      "source": [
        "# sample from the model\n",
        "g = torch.Generator().manual_seed(2147483647 + 10)\n",
        "\n",
        "for _ in range(20):\n",
        "    \n",
        "    out = []\n",
        "    context = [0] * block_size # initialize with all ...\n",
        "    while True:\n",
        "      # forward pass the neural net\n",
        "      emb = C[torch.tensor([context])] # (1,block_size,n_embd)\n",
        "      x = emb.view(emb.shape[0], -1) # concatenate the vectors\n",
        "      for layer in layers:\n",
        "        x = layer(x)\n",
        "      logits = x\n",
        "      probs = F.softmax(logits, dim=1)\n",
        "      # sample from the distribution\n",
        "      ix = torch.multinomial(probs, num_samples=1, generator=g).item()\n",
        "      # shift the context window and track the samples\n",
        "      context = context[1:] + [ix]\n",
        "      out.append(ix)\n",
        "      # if we sample the special '.' token, break\n",
        "      if ix == 0:\n",
        "        break\n",
        "    \n",
        "    print(''.join(itos[i] for i in out)) # decode and print the generated word"
      ],
      "metadata": {
        "id": "mMDnc4-kGmVv"
      },
      "execution_count": null,
      "outputs": []
    },
    {
      "cell_type": "markdown",
      "source": [
        "### Bonus from Andrej"
      ],
      "metadata": {
        "id": "bg33BqAAG3_t"
      }
    },
    {
      "cell_type": "code",
      "source": [
        "# BatchNorm forward pass as a widget\n",
        "\n",
        "from ipywidgets import interact, interactive, fixed, interact_manual\n",
        "import ipywidgets as widgets\n",
        "import scipy.stats as stats\n",
        "import numpy as np\n",
        "\n",
        "def normshow(x0):\n",
        "  \n",
        "  g = torch.Generator().manual_seed(2147483647+1)\n",
        "  x = torch.randn(5, generator=g) * 5\n",
        "  x[0] = x0 # override the 0th example with the slider\n",
        "  mu = x.mean()\n",
        "  sig = x.std()\n",
        "  y = (x - mu)/sig\n",
        "\n",
        "  plt.figure(figsize=(10, 5))\n",
        "  # plot 0\n",
        "  plt.plot([-6,6], [0,0], 'k')\n",
        "  # plot the mean and std\n",
        "  xx = np.linspace(-6, 6, 100)\n",
        "  plt.plot(xx, stats.norm.pdf(xx, mu, sig), 'b')\n",
        "  xx = np.linspace(-6, 6, 100)\n",
        "  plt.plot(xx, stats.norm.pdf(xx, 0, 1), 'r')\n",
        "  # plot little lines connecting input and output\n",
        "  for i in range(len(x)):\n",
        "    plt.plot([x[i],y[i]], [1, 0], 'k', alpha=0.2)\n",
        "  # plot the input and output values\n",
        "  plt.scatter(x.data, torch.ones_like(x).data, c='b', s=100)\n",
        "  plt.scatter(y.data, torch.zeros_like(y).data, c='r', s=100)\n",
        "  plt.xlim(-6, 6)\n",
        "  # title\n",
        "  plt.title('input mu %.2f std %.2f' % (mu, sig))\n",
        "\n",
        "interact(normshow, x0=(-30,30,0.5));"
      ],
      "metadata": {
        "colab": {
          "base_uri": "https://localhost:8080/",
          "height": 386,
          "referenced_widgets": [
            "a1faaebf74a74eed8b151f81f321b105",
            "2a01a8828d0a4053b98459c0ad2f36aa",
            "316f343419f849898395324bbd6bf5d2",
            "c9b75c83250940c4a9d3882bb2f773b9",
            "98ec72a4932d4b209e242debbe7e8548",
            "e9abd3bb560040079c8d4c933bcba6bd",
            "cd90c15af77a4cada9162cb6977755a3"
          ]
        },
        "id": "mjOodXkAGuk1",
        "outputId": "21737464-1de3-4e5a-9110-2b56ce5c1f09"
      },
      "execution_count": null,
      "outputs": [
        {
          "output_type": "display_data",
          "data": {
            "text/plain": [
              "interactive(children=(FloatSlider(value=0.0, description='x0', max=30.0, min=-30.0, step=0.5), Output()), _dom…"
            ],
            "application/vnd.jupyter.widget-view+json": {
              "version_major": 2,
              "version_minor": 0,
              "model_id": "a1faaebf74a74eed8b151f81f321b105"
            }
          },
          "metadata": {}
        }
      ]
    },
    {
      "cell_type": "code",
      "source": [
        "# Linear: activation statistics of forward and backward pass\n",
        "\n",
        "g = torch.Generator().manual_seed(2147483647)\n",
        "\n",
        "a = torch.randn((1000,1), requires_grad=True, generator=g)          # a.grad = b.T @ c.grad\n",
        "b = torch.randn((1000,1000), requires_grad=True, generator=g)       # b.grad = c.grad @ a.T\n",
        "c = b @ a\n",
        "loss = torch.randn(1000, generator=g) @ c\n",
        "a.retain_grad()\n",
        "b.retain_grad()\n",
        "c.retain_grad()\n",
        "loss.backward()\n",
        "print('a std:', a.std().item(), a.mean().item())\n",
        "print('b std:', b.std().item(), b.mean().item())\n",
        "print('c std:', c.std().item(), c.mean().item())\n",
        "print('-----')\n",
        "print('c grad std:', c.grad.std().item(), c.grad.mean().item())\n",
        "print('a grad std:', a.grad.std().item(), a.grad.mean().item())\n",
        "print('b grad std:', b.grad.std().item(), b.grad.mean().item())\n",
        "print(b)"
      ],
      "metadata": {
        "id": "eKvwwffRGvS0"
      },
      "execution_count": null,
      "outputs": []
    },
    {
      "cell_type": "code",
      "source": [
        "# Linear + BatchNorm: activation statistics of forward and backward pass\n",
        "\n",
        "g = torch.Generator().manual_seed(2147483647)\n",
        "\n",
        "n = 1000\n",
        "# linear layer ---\n",
        "inp = torch.randn(n, requires_grad=True, generator=g)\n",
        "w = torch.randn((n, n), requires_grad=True, generator=g) #/ n**0.5\n",
        "x = w @ inp\n",
        "# bn layer ---\n",
        "xmean = x.mean()\n",
        "xvar = x.var()\n",
        "out = (x - xmean) / torch.sqrt(xvar + 1e-5)\n",
        "# ----\n",
        "loss = out @ torch.randn(n, generator=g)\n",
        "inp.retain_grad()\n",
        "x.retain_grad()\n",
        "w.retain_grad()\n",
        "out.retain_grad()\n",
        "loss.backward()\n",
        "\n",
        "print('inp std: ', inp.std().item())\n",
        "print('w std: ', w.std().item())\n",
        "print('x std: ', x.std().item())\n",
        "print('out std: ', out.std().item())\n",
        "print('------')\n",
        "print('out grad std: ', out.grad.std().item())\n",
        "print('x grad std: ', x.grad.std().item())\n",
        "print('w grad std: ', w.grad.std().item())\n",
        "print('inp grad std: ', inp.grad.std().item())"
      ],
      "metadata": {
        "id": "6JWudt9FGyIU"
      },
      "execution_count": null,
      "outputs": []
    },
    {
      "cell_type": "code",
      "source": [],
      "metadata": {
        "id": "xFY50k4eJGCM"
      },
      "execution_count": null,
      "outputs": []
    }
  ]
}